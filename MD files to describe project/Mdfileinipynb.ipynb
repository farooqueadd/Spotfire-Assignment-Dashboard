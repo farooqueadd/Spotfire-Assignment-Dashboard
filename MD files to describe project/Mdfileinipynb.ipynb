{
 "cells": [
  {
   "cell_type": "markdown",
   "id": "88e718a0",
   "metadata": {},
   "source": [
    "<h1 style=\"color:#00d6b4;\">Spotfire-Assignment-Dashboard</h1>"
   ]
  },
  {
   "cell_type": "markdown",
   "id": "e4897be5",
   "metadata": {},
   "source": [
    "Dashboard link: https://spotfire-next.cloud.tibco.com/spotfire/wp/OpenAnalysis?file=1773e29b-62ce-4c03-add9-4bd5b5087637\n",
    "<br>*please make sure to trust scripts to see js script for KPIs and other python datafunctions"
   ]
  },
  {
   "cell_type": "markdown",
   "id": "34150333",
   "metadata": {},
   "source": [
    "\n",
    "<h2 style=\"color:darkcyan;\">Objective</h2><br>\n",
    "Analyse COVID-19 and mortality based on healthcare spending and vaccination across multiple countries , focusing details on USA and India data from COVID-19 Data API.<br>\n",
    "<OL>\n",
    "<li>\tAnalyze Global COVID-19 Impact:\n",
    "    <OL>\n",
    "    <li>Visualize total cases, deaths, recoveries, and vaccinations at a high level.</li>\n",
    "    <li>Compare mortality rates across different countries.</li>\n",
    "    </OL>\n",
    "</li>\n",
    "<li>\tUnderstand Healthcare Correlation:\n",
    "    <OL>\n",
    "   <li> Examine the relationship between healthcare spending per person and mortality or death rates.</li>\n",
    "    <li>Identify if countries with higher healthcare expenditure have lower death rates.</li>\n",
    "   </OL>\n",
    "</li>\n",
    "<li>\tIdentify Trends and Outliers:\n",
    "    <OL>\n",
    "    <li>Evaluate population vs. death rate patterns through scatter plots.</li>\n",
    "      <li>Forecast for next 5 years</li>  \n",
    "        </OL>\n",
    "</li>\n",
    "    \n",
    "<li>\tGeospatial Distribution:\n",
    "    <OL>\n",
    "    <li>Map COVID-19 cases, vaccination rates, or healthcare facilities by country.</li>\n",
    "    <li>Highlight hotspots and regions with higher/lower healthcare investment.</li>\n",
    "        </OL>\n",
    "</li>\n",
    "</OL>"
   ]
  },
  {
   "cell_type": "markdown",
   "id": "ce682eb6",
   "metadata": {},
   "source": [
    "<h2 style=\"color:darkcyan;\">Dashboard Snapshots</h2><br><strong>Tab 1: Covid Mortality and Healthcare </strong></br>\n",
    "<img src=\"C:/Users/Farooque Jamal/Documents/Projects/AIQ/Images/Page 1.png\" alt=\"Alt Text\" width=\"800\"/>\n",
    "<br><strong>Tab 2 : EDA </strong></br>\n",
    "<img src=\"C:/Users/Farooque Jamal/Documents/Projects/AIQ/Images/page 2.jpg\" alt=\"Alt Text\" width=\"800\"/>"
   ]
  },
  {
   "cell_type": "markdown",
   "id": "841781a8",
   "metadata": {},
   "source": [
    "<h2 style=\"color:darkcyan;\">Data </h2><br>\n",
    "Data is loaded from <br>\n",
    "<OL>\n",
    "<li> COVID-19 Data API\n",
    "    <OL>\n",
    "        <li>CountrywiseCovid19<br> Countrywise data for selected countries (India,USA,Brazil,Germany,Japan,South Africa,Saudi Arabia) </li>\n",
    "        <li>Statewise Covid19<br> Statewise data for India and USA </li>\n",
    "    </OL>\n",
    "</li>\n",
    "<li> World Bank API\n",
    "    <OL>\n",
    "        <li>WorldBankData <br>Year wise economic indicators for {selected countries}</li>\n",
    "       \n",
    "   \n",
    "</li>\n",
    "<li> OpenStreetMap (OSM)\n",
    "     <OL>\n",
    "        <li>Healthcare facilities <br> hospitals and clinics for {drop down selected states} for India and USA </li>\n",
    "       \n",
    "     \n",
    "</li>\n",
    "<li> Excel data embedded\n",
    "   <OL>\n",
    "        <li>country_code_mapping <br> Country mapping for API data and maps </li>\n",
    "       \n",
    "    \n",
    "</li>\n",
    "\n",
    "</OL>"
   ]
  },
  {
   "cell_type": "markdown",
   "id": "4159dbb2",
   "metadata": {},
   "source": [
    "<h2 style=\"color:darkcyan;\">Model</h2><br>\n",
    "CountrywiseCovid19 api data table is left joined with country_code_mapping excel data.<br>\n",
    "-This is  one to one relationship<br>\n",
    "Other API data tables are mapped by editing table relationships on state or country.<br>\n",
    "-All of this are many to one relatiosnhip or vice verca<br><br>\n",
    "Tranformations used: Filter rows, exclude columns"
   ]
  },
  {
   "cell_type": "markdown",
   "id": "fb0637d4",
   "metadata": {},
   "source": [
    "<h2 style=\"color:darkcyan;\">Custom R/Python functions</h2>"
   ]
  },
  {
   "cell_type": "markdown",
   "id": "cf79d283",
   "metadata": {},
   "source": [
    "Mainly used for connecting data from various API. Used only built in packages like http.client, json etc.\n",
    "Data is manipulated to convert from JSON to spotfire row major column type tables.\n",
    "Tried Predicitons using sklearn but sklearn is not available by default to import, so used spotfire's defualt foreacsting. "
   ]
  },
  {
   "cell_type": "markdown",
   "id": "d1623c67",
   "metadata": {},
   "source": [
    "<h2 style=\"color:darkcyan;\">Architecture of the dashboard</h2>"
   ]
  },
  {
   "cell_type": "markdown",
   "id": "1519bdff",
   "metadata": {},
   "source": [
    "User interactions\n",
    "<li>Markings are used to filter data from main visual </li>\n",
    "<li>Markings used for loading api data online</li>\n",
    "<li>Filter used for healthcare facilities</li>\n",
    "<li>On EDA all filters as included which have a different filtering scheme to seperate from main analysis</li>\n",
    "\n",
    "\n"
   ]
  },
  {
   "cell_type": "markdown",
   "id": "87d12383",
   "metadata": {},
   "source": [
    "Big Picture\n",
    "<li>Get data from various public API get requests, made time consuming api on demand when user interacts.</li>\n",
    "    <li>Joined neccessary tables</li>\n",
    "        <li>Tables whihc doesnt have a unique id or clear join natures are virtually joined using relationships.</li>        "
   ]
  },
  {
   "cell_type": "markdown",
   "id": "1a7650c7",
   "metadata": {},
   "source": [
    "<h2 style=\"color:darkcyan;\">Spotfire infrastructure</h2>"
   ]
  },
  {
   "cell_type": "markdown",
   "id": "d7e01e22",
   "metadata": {},
   "source": [
    "<li>Spotfire Analyst : desktop client for dashboard development, data manipulation and advanced analytics</li>\n",
    "<li>Spotfire Web Player – wEB based client that allows users to interact with dashboards through a browser.</li>\n",
    "<li>Spotfire Server – Server where spotfire is hosted.The central component that manages users, licenses, and access control.</li>\n",
    "<li>Data Connectors – Facilitate connections to databases, cloud storage, and big data systems.</li>\n",
    "<li>Spotfire Node Manager – Handles scaling by distributing workloads across multiple nodes.</li>\n",
    "\n"
   ]
  },
  {
   "cell_type": "markdown",
   "id": "a056d224",
   "metadata": {},
   "source": [
    "Scaling Consideration\n",
    "<li>Vertical Scaling: Increase CPU, RAM, and storage of the existing Spotfire Server</li>\n",
    "<li>Horizontal Scaling: Add more Spotfire Web Player instances or Spotfire Servers to distribute load</li>\n",
    "<li>Cluster Configuration: Deploy Spotfire in a clustered environment to ensure high availability and failover</li>\n",
    "<li>Session Pooling: Optimize session pooling to handle more users by reusing Web Player sessions efficiently.</li>\n",
    "<li>Resource : Set resource quotas to prevent a single user or dashboard from consuming excessive resources</li>"
   ]
  },
  {
   "cell_type": "code",
   "execution_count": null,
   "id": "6c7e07c9",
   "metadata": {},
   "outputs": [],
   "source": []
  }
 ],
 "metadata": {
  "kernelspec": {
   "display_name": "Python 3 (ipykernel)",
   "language": "python",
   "name": "python3"
  },
  "language_info": {
   "codemirror_mode": {
    "name": "ipython",
    "version": 3
   },
   "file_extension": ".py",
   "mimetype": "text/x-python",
   "name": "python",
   "nbconvert_exporter": "python",
   "pygments_lexer": "ipython3",
   "version": "3.11.5"
  }
 },
 "nbformat": 4,
 "nbformat_minor": 5
}
